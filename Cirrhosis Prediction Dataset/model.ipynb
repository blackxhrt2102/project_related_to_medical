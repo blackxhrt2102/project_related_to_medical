{
  "nbformat": 4,
  "nbformat_minor": 0,
  "metadata": {
    "colab": {
      "name": "Untitled89.ipynb",
      "provenance": [],
      "authorship_tag": "ABX9TyOTlW2KSrVCa3hG5we/9iny",
      "include_colab_link": true
    },
    "kernelspec": {
      "name": "python3",
      "display_name": "Python 3"
    },
    "language_info": {
      "name": "python"
    }
  },
  "cells": [
    {
      "cell_type": "markdown",
      "metadata": {
        "id": "view-in-github",
        "colab_type": "text"
      },
      "source": [
        "<a href=\"https://colab.research.google.com/github/blackxhrt2102/project_related_to_medical/blob/main/Cirrhosis%20Prediction%20Dataset/model.ipynb\" target=\"_parent\"><img src=\"https://colab.research.google.com/assets/colab-badge.svg\" alt=\"Open In Colab\"/></a>"
      ]
    },
    {
      "cell_type": "code",
      "execution_count": 542,
      "metadata": {
        "colab": {
          "base_uri": "https://localhost:8080/"
        },
        "id": "SK3tek35cx7p",
        "outputId": "ccd64709-928a-4f29-8d88-b12d2d25304c"
      },
      "outputs": [
        {
          "output_type": "stream",
          "name": "stdout",
          "text": [
            "cirrhosis-prediction-dataset.zip: Skipping, found more recently modified local copy (use --force to force download)\n"
          ]
        }
      ],
      "source": [
        "!pip install -q kaggle\n",
        "\n",
        "!mkdir -p ~/.kaggle\n",
        "!cp kaggle.json ~/.kaggle/\n",
        "\n",
        "!chmod 600 /root/.kaggle/kaggle.json\n",
        "\n",
        "!kaggle datasets download -d fedesoriano/cirrhosis-prediction-dataset"
      ]
    },
    {
      "cell_type": "code",
      "source": [
        "import os,zipfile\n",
        "\n",
        "data=zipfile.ZipFile('/content/cirrhosis-prediction-dataset.zip')\n",
        "data.extractall('/content')"
      ],
      "metadata": {
        "id": "-lkAYfv6c5xM"
      },
      "execution_count": 543,
      "outputs": []
    },
    {
      "cell_type": "code",
      "source": [
        "import numpy as np\n",
        "import pandas as pd\n",
        "import matplotlib.pyplot as plt\n",
        "import seaborn as sns"
      ],
      "metadata": {
        "id": "CsLAoFppdK02"
      },
      "execution_count": 544,
      "outputs": []
    },
    {
      "cell_type": "code",
      "source": [
        "data=pd.read_csv('/content/cirrhosis.csv',index_col='ID')"
      ],
      "metadata": {
        "id": "m8rW-r-bdSr2"
      },
      "execution_count": 545,
      "outputs": []
    },
    {
      "cell_type": "code",
      "source": [
        "# Shape of the dataset:-\n",
        "\n",
        "data.shape"
      ],
      "metadata": {
        "colab": {
          "base_uri": "https://localhost:8080/"
        },
        "id": "0xGH_WUcdX98",
        "outputId": "ddf5e717-f396-487e-ed8f-46363a930415"
      },
      "execution_count": 546,
      "outputs": [
        {
          "output_type": "execute_result",
          "data": {
            "text/plain": [
              "(418, 19)"
            ]
          },
          "metadata": {},
          "execution_count": 546
        }
      ]
    },
    {
      "cell_type": "code",
      "source": [
        "# First few rows in dataset:-\n",
        "\n",
        "data.head(5)"
      ],
      "metadata": {
        "colab": {
          "base_uri": "https://localhost:8080/",
          "height": 371
        },
        "id": "TcoCNirKdcl1",
        "outputId": "0a89c57f-430a-4fcb-be39-a53a12da4605"
      },
      "execution_count": 547,
      "outputs": [
        {
          "output_type": "execute_result",
          "data": {
            "text/plain": [
              "    N_Days Status             Drug    Age Sex Ascites Hepatomegaly Spiders  \\\n",
              "ID                                                                           \n",
              "1      400      D  D-penicillamine  21464   F       Y            Y       Y   \n",
              "2     4500      C  D-penicillamine  20617   F       N            Y       Y   \n",
              "3     1012      D  D-penicillamine  25594   M       N            N       N   \n",
              "4     1925      D  D-penicillamine  19994   F       N            Y       Y   \n",
              "5     1504     CL          Placebo  13918   F       N            Y       Y   \n",
              "\n",
              "   Edema  Bilirubin  Cholesterol  Albumin  Copper  Alk_Phos    SGOT  \\\n",
              "ID                                                                    \n",
              "1      Y       14.5        261.0     2.60   156.0    1718.0  137.95   \n",
              "2      N        1.1        302.0     4.14    54.0    7394.8  113.52   \n",
              "3      S        1.4        176.0     3.48   210.0     516.0   96.10   \n",
              "4      S        1.8        244.0     2.54    64.0    6121.8   60.63   \n",
              "5      N        3.4        279.0     3.53   143.0     671.0  113.15   \n",
              "\n",
              "    Tryglicerides  Platelets  Prothrombin  Stage  \n",
              "ID                                                \n",
              "1           172.0      190.0         12.2    4.0  \n",
              "2            88.0      221.0         10.6    3.0  \n",
              "3            55.0      151.0         12.0    4.0  \n",
              "4            92.0      183.0         10.3    4.0  \n",
              "5            72.0      136.0         10.9    3.0  "
            ],
            "text/html": [
              "\n",
              "  <div id=\"df-7886a37a-1739-4c84-9029-421be384b54e\">\n",
              "    <div class=\"colab-df-container\">\n",
              "      <div>\n",
              "<style scoped>\n",
              "    .dataframe tbody tr th:only-of-type {\n",
              "        vertical-align: middle;\n",
              "    }\n",
              "\n",
              "    .dataframe tbody tr th {\n",
              "        vertical-align: top;\n",
              "    }\n",
              "\n",
              "    .dataframe thead th {\n",
              "        text-align: right;\n",
              "    }\n",
              "</style>\n",
              "<table border=\"1\" class=\"dataframe\">\n",
              "  <thead>\n",
              "    <tr style=\"text-align: right;\">\n",
              "      <th></th>\n",
              "      <th>N_Days</th>\n",
              "      <th>Status</th>\n",
              "      <th>Drug</th>\n",
              "      <th>Age</th>\n",
              "      <th>Sex</th>\n",
              "      <th>Ascites</th>\n",
              "      <th>Hepatomegaly</th>\n",
              "      <th>Spiders</th>\n",
              "      <th>Edema</th>\n",
              "      <th>Bilirubin</th>\n",
              "      <th>Cholesterol</th>\n",
              "      <th>Albumin</th>\n",
              "      <th>Copper</th>\n",
              "      <th>Alk_Phos</th>\n",
              "      <th>SGOT</th>\n",
              "      <th>Tryglicerides</th>\n",
              "      <th>Platelets</th>\n",
              "      <th>Prothrombin</th>\n",
              "      <th>Stage</th>\n",
              "    </tr>\n",
              "    <tr>\n",
              "      <th>ID</th>\n",
              "      <th></th>\n",
              "      <th></th>\n",
              "      <th></th>\n",
              "      <th></th>\n",
              "      <th></th>\n",
              "      <th></th>\n",
              "      <th></th>\n",
              "      <th></th>\n",
              "      <th></th>\n",
              "      <th></th>\n",
              "      <th></th>\n",
              "      <th></th>\n",
              "      <th></th>\n",
              "      <th></th>\n",
              "      <th></th>\n",
              "      <th></th>\n",
              "      <th></th>\n",
              "      <th></th>\n",
              "      <th></th>\n",
              "    </tr>\n",
              "  </thead>\n",
              "  <tbody>\n",
              "    <tr>\n",
              "      <th>1</th>\n",
              "      <td>400</td>\n",
              "      <td>D</td>\n",
              "      <td>D-penicillamine</td>\n",
              "      <td>21464</td>\n",
              "      <td>F</td>\n",
              "      <td>Y</td>\n",
              "      <td>Y</td>\n",
              "      <td>Y</td>\n",
              "      <td>Y</td>\n",
              "      <td>14.5</td>\n",
              "      <td>261.0</td>\n",
              "      <td>2.60</td>\n",
              "      <td>156.0</td>\n",
              "      <td>1718.0</td>\n",
              "      <td>137.95</td>\n",
              "      <td>172.0</td>\n",
              "      <td>190.0</td>\n",
              "      <td>12.2</td>\n",
              "      <td>4.0</td>\n",
              "    </tr>\n",
              "    <tr>\n",
              "      <th>2</th>\n",
              "      <td>4500</td>\n",
              "      <td>C</td>\n",
              "      <td>D-penicillamine</td>\n",
              "      <td>20617</td>\n",
              "      <td>F</td>\n",
              "      <td>N</td>\n",
              "      <td>Y</td>\n",
              "      <td>Y</td>\n",
              "      <td>N</td>\n",
              "      <td>1.1</td>\n",
              "      <td>302.0</td>\n",
              "      <td>4.14</td>\n",
              "      <td>54.0</td>\n",
              "      <td>7394.8</td>\n",
              "      <td>113.52</td>\n",
              "      <td>88.0</td>\n",
              "      <td>221.0</td>\n",
              "      <td>10.6</td>\n",
              "      <td>3.0</td>\n",
              "    </tr>\n",
              "    <tr>\n",
              "      <th>3</th>\n",
              "      <td>1012</td>\n",
              "      <td>D</td>\n",
              "      <td>D-penicillamine</td>\n",
              "      <td>25594</td>\n",
              "      <td>M</td>\n",
              "      <td>N</td>\n",
              "      <td>N</td>\n",
              "      <td>N</td>\n",
              "      <td>S</td>\n",
              "      <td>1.4</td>\n",
              "      <td>176.0</td>\n",
              "      <td>3.48</td>\n",
              "      <td>210.0</td>\n",
              "      <td>516.0</td>\n",
              "      <td>96.10</td>\n",
              "      <td>55.0</td>\n",
              "      <td>151.0</td>\n",
              "      <td>12.0</td>\n",
              "      <td>4.0</td>\n",
              "    </tr>\n",
              "    <tr>\n",
              "      <th>4</th>\n",
              "      <td>1925</td>\n",
              "      <td>D</td>\n",
              "      <td>D-penicillamine</td>\n",
              "      <td>19994</td>\n",
              "      <td>F</td>\n",
              "      <td>N</td>\n",
              "      <td>Y</td>\n",
              "      <td>Y</td>\n",
              "      <td>S</td>\n",
              "      <td>1.8</td>\n",
              "      <td>244.0</td>\n",
              "      <td>2.54</td>\n",
              "      <td>64.0</td>\n",
              "      <td>6121.8</td>\n",
              "      <td>60.63</td>\n",
              "      <td>92.0</td>\n",
              "      <td>183.0</td>\n",
              "      <td>10.3</td>\n",
              "      <td>4.0</td>\n",
              "    </tr>\n",
              "    <tr>\n",
              "      <th>5</th>\n",
              "      <td>1504</td>\n",
              "      <td>CL</td>\n",
              "      <td>Placebo</td>\n",
              "      <td>13918</td>\n",
              "      <td>F</td>\n",
              "      <td>N</td>\n",
              "      <td>Y</td>\n",
              "      <td>Y</td>\n",
              "      <td>N</td>\n",
              "      <td>3.4</td>\n",
              "      <td>279.0</td>\n",
              "      <td>3.53</td>\n",
              "      <td>143.0</td>\n",
              "      <td>671.0</td>\n",
              "      <td>113.15</td>\n",
              "      <td>72.0</td>\n",
              "      <td>136.0</td>\n",
              "      <td>10.9</td>\n",
              "      <td>3.0</td>\n",
              "    </tr>\n",
              "  </tbody>\n",
              "</table>\n",
              "</div>\n",
              "      <button class=\"colab-df-convert\" onclick=\"convertToInteractive('df-7886a37a-1739-4c84-9029-421be384b54e')\"\n",
              "              title=\"Convert this dataframe to an interactive table.\"\n",
              "              style=\"display:none;\">\n",
              "        \n",
              "  <svg xmlns=\"http://www.w3.org/2000/svg\" height=\"24px\"viewBox=\"0 0 24 24\"\n",
              "       width=\"24px\">\n",
              "    <path d=\"M0 0h24v24H0V0z\" fill=\"none\"/>\n",
              "    <path d=\"M18.56 5.44l.94 2.06.94-2.06 2.06-.94-2.06-.94-.94-2.06-.94 2.06-2.06.94zm-11 1L8.5 8.5l.94-2.06 2.06-.94-2.06-.94L8.5 2.5l-.94 2.06-2.06.94zm10 10l.94 2.06.94-2.06 2.06-.94-2.06-.94-.94-2.06-.94 2.06-2.06.94z\"/><path d=\"M17.41 7.96l-1.37-1.37c-.4-.4-.92-.59-1.43-.59-.52 0-1.04.2-1.43.59L10.3 9.45l-7.72 7.72c-.78.78-.78 2.05 0 2.83L4 21.41c.39.39.9.59 1.41.59.51 0 1.02-.2 1.41-.59l7.78-7.78 2.81-2.81c.8-.78.8-2.07 0-2.86zM5.41 20L4 18.59l7.72-7.72 1.47 1.35L5.41 20z\"/>\n",
              "  </svg>\n",
              "      </button>\n",
              "      \n",
              "  <style>\n",
              "    .colab-df-container {\n",
              "      display:flex;\n",
              "      flex-wrap:wrap;\n",
              "      gap: 12px;\n",
              "    }\n",
              "\n",
              "    .colab-df-convert {\n",
              "      background-color: #E8F0FE;\n",
              "      border: none;\n",
              "      border-radius: 50%;\n",
              "      cursor: pointer;\n",
              "      display: none;\n",
              "      fill: #1967D2;\n",
              "      height: 32px;\n",
              "      padding: 0 0 0 0;\n",
              "      width: 32px;\n",
              "    }\n",
              "\n",
              "    .colab-df-convert:hover {\n",
              "      background-color: #E2EBFA;\n",
              "      box-shadow: 0px 1px 2px rgba(60, 64, 67, 0.3), 0px 1px 3px 1px rgba(60, 64, 67, 0.15);\n",
              "      fill: #174EA6;\n",
              "    }\n",
              "\n",
              "    [theme=dark] .colab-df-convert {\n",
              "      background-color: #3B4455;\n",
              "      fill: #D2E3FC;\n",
              "    }\n",
              "\n",
              "    [theme=dark] .colab-df-convert:hover {\n",
              "      background-color: #434B5C;\n",
              "      box-shadow: 0px 1px 3px 1px rgba(0, 0, 0, 0.15);\n",
              "      filter: drop-shadow(0px 1px 2px rgba(0, 0, 0, 0.3));\n",
              "      fill: #FFFFFF;\n",
              "    }\n",
              "  </style>\n",
              "\n",
              "      <script>\n",
              "        const buttonEl =\n",
              "          document.querySelector('#df-7886a37a-1739-4c84-9029-421be384b54e button.colab-df-convert');\n",
              "        buttonEl.style.display =\n",
              "          google.colab.kernel.accessAllowed ? 'block' : 'none';\n",
              "\n",
              "        async function convertToInteractive(key) {\n",
              "          const element = document.querySelector('#df-7886a37a-1739-4c84-9029-421be384b54e');\n",
              "          const dataTable =\n",
              "            await google.colab.kernel.invokeFunction('convertToInteractive',\n",
              "                                                     [key], {});\n",
              "          if (!dataTable) return;\n",
              "\n",
              "          const docLinkHtml = 'Like what you see? Visit the ' +\n",
              "            '<a target=\"_blank\" href=https://colab.research.google.com/notebooks/data_table.ipynb>data table notebook</a>'\n",
              "            + ' to learn more about interactive tables.';\n",
              "          element.innerHTML = '';\n",
              "          dataTable['output_type'] = 'display_data';\n",
              "          await google.colab.output.renderOutput(dataTable, element);\n",
              "          const docLink = document.createElement('div');\n",
              "          docLink.innerHTML = docLinkHtml;\n",
              "          element.appendChild(docLink);\n",
              "        }\n",
              "      </script>\n",
              "    </div>\n",
              "  </div>\n",
              "  "
            ]
          },
          "metadata": {},
          "execution_count": 547
        }
      ]
    },
    {
      "cell_type": "code",
      "source": [
        "data.info()"
      ],
      "metadata": {
        "colab": {
          "base_uri": "https://localhost:8080/"
        },
        "id": "rVBakirzdeW6",
        "outputId": "86e861e5-a519-4f4f-91c2-32ec562cb433"
      },
      "execution_count": 548,
      "outputs": [
        {
          "output_type": "stream",
          "name": "stdout",
          "text": [
            "<class 'pandas.core.frame.DataFrame'>\n",
            "Int64Index: 418 entries, 1 to 418\n",
            "Data columns (total 19 columns):\n",
            " #   Column         Non-Null Count  Dtype  \n",
            "---  ------         --------------  -----  \n",
            " 0   N_Days         418 non-null    int64  \n",
            " 1   Status         418 non-null    object \n",
            " 2   Drug           312 non-null    object \n",
            " 3   Age            418 non-null    int64  \n",
            " 4   Sex            418 non-null    object \n",
            " 5   Ascites        312 non-null    object \n",
            " 6   Hepatomegaly   312 non-null    object \n",
            " 7   Spiders        312 non-null    object \n",
            " 8   Edema          418 non-null    object \n",
            " 9   Bilirubin      418 non-null    float64\n",
            " 10  Cholesterol    284 non-null    float64\n",
            " 11  Albumin        418 non-null    float64\n",
            " 12  Copper         310 non-null    float64\n",
            " 13  Alk_Phos       312 non-null    float64\n",
            " 14  SGOT           312 non-null    float64\n",
            " 15  Tryglicerides  282 non-null    float64\n",
            " 16  Platelets      407 non-null    float64\n",
            " 17  Prothrombin    416 non-null    float64\n",
            " 18  Stage          412 non-null    float64\n",
            "dtypes: float64(10), int64(2), object(7)\n",
            "memory usage: 65.3+ KB\n"
          ]
        }
      ]
    },
    {
      "cell_type": "code",
      "source": [
        "data.describe()"
      ],
      "metadata": {
        "colab": {
          "base_uri": "https://localhost:8080/",
          "height": 364
        },
        "id": "RBlJ8qGZeYtd",
        "outputId": "e2508f24-59c7-4c60-94fc-e1fea0e8fee5"
      },
      "execution_count": 549,
      "outputs": [
        {
          "output_type": "execute_result",
          "data": {
            "text/plain": [
              "            N_Days           Age   Bilirubin  Cholesterol     Albumin  \\\n",
              "count   418.000000    418.000000  418.000000   284.000000  418.000000   \n",
              "mean   1917.782297  18533.351675    3.220813   369.510563    3.497440   \n",
              "std    1104.672992   3815.845055    4.407506   231.944545    0.424972   \n",
              "min      41.000000   9598.000000    0.300000   120.000000    1.960000   \n",
              "25%    1092.750000  15644.500000    0.800000   249.500000    3.242500   \n",
              "50%    1730.000000  18628.000000    1.400000   309.500000    3.530000   \n",
              "75%    2613.500000  21272.500000    3.400000   400.000000    3.770000   \n",
              "max    4795.000000  28650.000000   28.000000  1775.000000    4.640000   \n",
              "\n",
              "           Copper      Alk_Phos        SGOT  Tryglicerides   Platelets  \\\n",
              "count  310.000000    312.000000  312.000000     282.000000  407.000000   \n",
              "mean    97.648387   1982.655769  122.556346     124.702128  257.024570   \n",
              "std     85.613920   2140.388824   56.699525      65.148639   98.325585   \n",
              "min      4.000000    289.000000   26.350000      33.000000   62.000000   \n",
              "25%     41.250000    871.500000   80.600000      84.250000  188.500000   \n",
              "50%     73.000000   1259.000000  114.700000     108.000000  251.000000   \n",
              "75%    123.000000   1980.000000  151.900000     151.000000  318.000000   \n",
              "max    588.000000  13862.400000  457.250000     598.000000  721.000000   \n",
              "\n",
              "       Prothrombin       Stage  \n",
              "count   416.000000  412.000000  \n",
              "mean     10.731731    3.024272  \n",
              "std       1.022000    0.882042  \n",
              "min       9.000000    1.000000  \n",
              "25%      10.000000    2.000000  \n",
              "50%      10.600000    3.000000  \n",
              "75%      11.100000    4.000000  \n",
              "max      18.000000    4.000000  "
            ],
            "text/html": [
              "\n",
              "  <div id=\"df-dbd39011-8546-4dd2-b4af-e1802f6d8a60\">\n",
              "    <div class=\"colab-df-container\">\n",
              "      <div>\n",
              "<style scoped>\n",
              "    .dataframe tbody tr th:only-of-type {\n",
              "        vertical-align: middle;\n",
              "    }\n",
              "\n",
              "    .dataframe tbody tr th {\n",
              "        vertical-align: top;\n",
              "    }\n",
              "\n",
              "    .dataframe thead th {\n",
              "        text-align: right;\n",
              "    }\n",
              "</style>\n",
              "<table border=\"1\" class=\"dataframe\">\n",
              "  <thead>\n",
              "    <tr style=\"text-align: right;\">\n",
              "      <th></th>\n",
              "      <th>N_Days</th>\n",
              "      <th>Age</th>\n",
              "      <th>Bilirubin</th>\n",
              "      <th>Cholesterol</th>\n",
              "      <th>Albumin</th>\n",
              "      <th>Copper</th>\n",
              "      <th>Alk_Phos</th>\n",
              "      <th>SGOT</th>\n",
              "      <th>Tryglicerides</th>\n",
              "      <th>Platelets</th>\n",
              "      <th>Prothrombin</th>\n",
              "      <th>Stage</th>\n",
              "    </tr>\n",
              "  </thead>\n",
              "  <tbody>\n",
              "    <tr>\n",
              "      <th>count</th>\n",
              "      <td>418.000000</td>\n",
              "      <td>418.000000</td>\n",
              "      <td>418.000000</td>\n",
              "      <td>284.000000</td>\n",
              "      <td>418.000000</td>\n",
              "      <td>310.000000</td>\n",
              "      <td>312.000000</td>\n",
              "      <td>312.000000</td>\n",
              "      <td>282.000000</td>\n",
              "      <td>407.000000</td>\n",
              "      <td>416.000000</td>\n",
              "      <td>412.000000</td>\n",
              "    </tr>\n",
              "    <tr>\n",
              "      <th>mean</th>\n",
              "      <td>1917.782297</td>\n",
              "      <td>18533.351675</td>\n",
              "      <td>3.220813</td>\n",
              "      <td>369.510563</td>\n",
              "      <td>3.497440</td>\n",
              "      <td>97.648387</td>\n",
              "      <td>1982.655769</td>\n",
              "      <td>122.556346</td>\n",
              "      <td>124.702128</td>\n",
              "      <td>257.024570</td>\n",
              "      <td>10.731731</td>\n",
              "      <td>3.024272</td>\n",
              "    </tr>\n",
              "    <tr>\n",
              "      <th>std</th>\n",
              "      <td>1104.672992</td>\n",
              "      <td>3815.845055</td>\n",
              "      <td>4.407506</td>\n",
              "      <td>231.944545</td>\n",
              "      <td>0.424972</td>\n",
              "      <td>85.613920</td>\n",
              "      <td>2140.388824</td>\n",
              "      <td>56.699525</td>\n",
              "      <td>65.148639</td>\n",
              "      <td>98.325585</td>\n",
              "      <td>1.022000</td>\n",
              "      <td>0.882042</td>\n",
              "    </tr>\n",
              "    <tr>\n",
              "      <th>min</th>\n",
              "      <td>41.000000</td>\n",
              "      <td>9598.000000</td>\n",
              "      <td>0.300000</td>\n",
              "      <td>120.000000</td>\n",
              "      <td>1.960000</td>\n",
              "      <td>4.000000</td>\n",
              "      <td>289.000000</td>\n",
              "      <td>26.350000</td>\n",
              "      <td>33.000000</td>\n",
              "      <td>62.000000</td>\n",
              "      <td>9.000000</td>\n",
              "      <td>1.000000</td>\n",
              "    </tr>\n",
              "    <tr>\n",
              "      <th>25%</th>\n",
              "      <td>1092.750000</td>\n",
              "      <td>15644.500000</td>\n",
              "      <td>0.800000</td>\n",
              "      <td>249.500000</td>\n",
              "      <td>3.242500</td>\n",
              "      <td>41.250000</td>\n",
              "      <td>871.500000</td>\n",
              "      <td>80.600000</td>\n",
              "      <td>84.250000</td>\n",
              "      <td>188.500000</td>\n",
              "      <td>10.000000</td>\n",
              "      <td>2.000000</td>\n",
              "    </tr>\n",
              "    <tr>\n",
              "      <th>50%</th>\n",
              "      <td>1730.000000</td>\n",
              "      <td>18628.000000</td>\n",
              "      <td>1.400000</td>\n",
              "      <td>309.500000</td>\n",
              "      <td>3.530000</td>\n",
              "      <td>73.000000</td>\n",
              "      <td>1259.000000</td>\n",
              "      <td>114.700000</td>\n",
              "      <td>108.000000</td>\n",
              "      <td>251.000000</td>\n",
              "      <td>10.600000</td>\n",
              "      <td>3.000000</td>\n",
              "    </tr>\n",
              "    <tr>\n",
              "      <th>75%</th>\n",
              "      <td>2613.500000</td>\n",
              "      <td>21272.500000</td>\n",
              "      <td>3.400000</td>\n",
              "      <td>400.000000</td>\n",
              "      <td>3.770000</td>\n",
              "      <td>123.000000</td>\n",
              "      <td>1980.000000</td>\n",
              "      <td>151.900000</td>\n",
              "      <td>151.000000</td>\n",
              "      <td>318.000000</td>\n",
              "      <td>11.100000</td>\n",
              "      <td>4.000000</td>\n",
              "    </tr>\n",
              "    <tr>\n",
              "      <th>max</th>\n",
              "      <td>4795.000000</td>\n",
              "      <td>28650.000000</td>\n",
              "      <td>28.000000</td>\n",
              "      <td>1775.000000</td>\n",
              "      <td>4.640000</td>\n",
              "      <td>588.000000</td>\n",
              "      <td>13862.400000</td>\n",
              "      <td>457.250000</td>\n",
              "      <td>598.000000</td>\n",
              "      <td>721.000000</td>\n",
              "      <td>18.000000</td>\n",
              "      <td>4.000000</td>\n",
              "    </tr>\n",
              "  </tbody>\n",
              "</table>\n",
              "</div>\n",
              "      <button class=\"colab-df-convert\" onclick=\"convertToInteractive('df-dbd39011-8546-4dd2-b4af-e1802f6d8a60')\"\n",
              "              title=\"Convert this dataframe to an interactive table.\"\n",
              "              style=\"display:none;\">\n",
              "        \n",
              "  <svg xmlns=\"http://www.w3.org/2000/svg\" height=\"24px\"viewBox=\"0 0 24 24\"\n",
              "       width=\"24px\">\n",
              "    <path d=\"M0 0h24v24H0V0z\" fill=\"none\"/>\n",
              "    <path d=\"M18.56 5.44l.94 2.06.94-2.06 2.06-.94-2.06-.94-.94-2.06-.94 2.06-2.06.94zm-11 1L8.5 8.5l.94-2.06 2.06-.94-2.06-.94L8.5 2.5l-.94 2.06-2.06.94zm10 10l.94 2.06.94-2.06 2.06-.94-2.06-.94-.94-2.06-.94 2.06-2.06.94z\"/><path d=\"M17.41 7.96l-1.37-1.37c-.4-.4-.92-.59-1.43-.59-.52 0-1.04.2-1.43.59L10.3 9.45l-7.72 7.72c-.78.78-.78 2.05 0 2.83L4 21.41c.39.39.9.59 1.41.59.51 0 1.02-.2 1.41-.59l7.78-7.78 2.81-2.81c.8-.78.8-2.07 0-2.86zM5.41 20L4 18.59l7.72-7.72 1.47 1.35L5.41 20z\"/>\n",
              "  </svg>\n",
              "      </button>\n",
              "      \n",
              "  <style>\n",
              "    .colab-df-container {\n",
              "      display:flex;\n",
              "      flex-wrap:wrap;\n",
              "      gap: 12px;\n",
              "    }\n",
              "\n",
              "    .colab-df-convert {\n",
              "      background-color: #E8F0FE;\n",
              "      border: none;\n",
              "      border-radius: 50%;\n",
              "      cursor: pointer;\n",
              "      display: none;\n",
              "      fill: #1967D2;\n",
              "      height: 32px;\n",
              "      padding: 0 0 0 0;\n",
              "      width: 32px;\n",
              "    }\n",
              "\n",
              "    .colab-df-convert:hover {\n",
              "      background-color: #E2EBFA;\n",
              "      box-shadow: 0px 1px 2px rgba(60, 64, 67, 0.3), 0px 1px 3px 1px rgba(60, 64, 67, 0.15);\n",
              "      fill: #174EA6;\n",
              "    }\n",
              "\n",
              "    [theme=dark] .colab-df-convert {\n",
              "      background-color: #3B4455;\n",
              "      fill: #D2E3FC;\n",
              "    }\n",
              "\n",
              "    [theme=dark] .colab-df-convert:hover {\n",
              "      background-color: #434B5C;\n",
              "      box-shadow: 0px 1px 3px 1px rgba(0, 0, 0, 0.15);\n",
              "      filter: drop-shadow(0px 1px 2px rgba(0, 0, 0, 0.3));\n",
              "      fill: #FFFFFF;\n",
              "    }\n",
              "  </style>\n",
              "\n",
              "      <script>\n",
              "        const buttonEl =\n",
              "          document.querySelector('#df-dbd39011-8546-4dd2-b4af-e1802f6d8a60 button.colab-df-convert');\n",
              "        buttonEl.style.display =\n",
              "          google.colab.kernel.accessAllowed ? 'block' : 'none';\n",
              "\n",
              "        async function convertToInteractive(key) {\n",
              "          const element = document.querySelector('#df-dbd39011-8546-4dd2-b4af-e1802f6d8a60');\n",
              "          const dataTable =\n",
              "            await google.colab.kernel.invokeFunction('convertToInteractive',\n",
              "                                                     [key], {});\n",
              "          if (!dataTable) return;\n",
              "\n",
              "          const docLinkHtml = 'Like what you see? Visit the ' +\n",
              "            '<a target=\"_blank\" href=https://colab.research.google.com/notebooks/data_table.ipynb>data table notebook</a>'\n",
              "            + ' to learn more about interactive tables.';\n",
              "          element.innerHTML = '';\n",
              "          dataTable['output_type'] = 'display_data';\n",
              "          await google.colab.output.renderOutput(dataTable, element);\n",
              "          const docLink = document.createElement('div');\n",
              "          docLink.innerHTML = docLinkHtml;\n",
              "          element.appendChild(docLink);\n",
              "        }\n",
              "      </script>\n",
              "    </div>\n",
              "  </div>\n",
              "  "
            ]
          },
          "metadata": {},
          "execution_count": 549
        }
      ]
    },
    {
      "cell_type": "code",
      "source": [
        "cat=data.select_dtypes(include='object')\n",
        "reg=data.select_dtypes(exclude='object')"
      ],
      "metadata": {
        "id": "FJihGcCEecmX"
      },
      "execution_count": 550,
      "outputs": []
    },
    {
      "cell_type": "code",
      "source": [
        "# Label Encoding\n",
        "\n",
        "data['Sex']=data['Sex'].replace({'F':1,'M':0})\n",
        "data['Ascites']=data['Ascites'].replace({'Y':1,'N':0})\n",
        "data['Hepatomegaly']=data['Hepatomegaly'].replace({\"Y\":1,'N':0})\n",
        "data['Spiders']=data['Spiders'].replace({\"Y\":1,'N':0})\n",
        "data['Drug']=data['Drug'].replace({'D-penicillamine':1,'Placebo':2})\n",
        "data['Status']=data['Status'].replace({'C':1,'D':2,'CL':3})"
      ],
      "metadata": {
        "id": "mlRrXS3Aeuky"
      },
      "execution_count": 551,
      "outputs": []
    },
    {
      "cell_type": "code",
      "source": [
        "# Handling missing columns:-\n",
        "from sklearn.experimental import enable_iterative_imputer\n",
        "from sklearn.impute import IterativeImputer\n",
        "\n",
        "impute=IterativeImputer(max_iter=21)\n",
        "col=data.drop(['Drug','Edema','Status','Ascites'],axis=1).columns\n",
        "data[col]=pd.DataFrame(impute.fit_transform(data[col]),columns=col)\n",
        "\n",
        "data['Drug']=data['Drug'].fillna(0)\n",
        "\n"
      ],
      "metadata": {
        "id": "2s5R1CF0goXf"
      },
      "execution_count": 552,
      "outputs": []
    },
    {
      "cell_type": "code",
      "source": [
        "data['Status']=data['Status'].replace({'C':1,'D':2,'CL':3})\n",
        "data['Edema']=data['Edema'].replace({'Y':1,'N':2,'S':3})"
      ],
      "metadata": {
        "id": "hSQY1g1Gj6_j"
      },
      "execution_count": 553,
      "outputs": []
    },
    {
      "cell_type": "code",
      "source": [
        "# Converting Age in year\n",
        "\n",
        "data['Age']=data['Age']/365\n",
        "\n"
      ],
      "metadata": {
        "id": "F360YLkGlMfn"
      },
      "execution_count": 554,
      "outputs": []
    },
    {
      "cell_type": "code",
      "source": [
        "data.hist(figsize=(15,10))"
      ],
      "metadata": {
        "colab": {
          "base_uri": "https://localhost:8080/",
          "height": 971
        },
        "id": "HZLBAFSmlWvD",
        "outputId": "00ece54b-5dea-4e6a-f552-375a57051f43"
      },
      "execution_count": 555,
      "outputs": [
        {
          "output_type": "execute_result",
          "data": {
            "text/plain": [
              "array([[<matplotlib.axes._subplots.AxesSubplot object at 0x7f27d0134c10>,\n",
              "        <matplotlib.axes._subplots.AxesSubplot object at 0x7f27d016c710>,\n",
              "        <matplotlib.axes._subplots.AxesSubplot object at 0x7f27d00f53d0>,\n",
              "        <matplotlib.axes._subplots.AxesSubplot object at 0x7f27d009c8d0>],\n",
              "       [<matplotlib.axes._subplots.AxesSubplot object at 0x7f27d004ddd0>,\n",
              "        <matplotlib.axes._subplots.AxesSubplot object at 0x7f27d0012310>,\n",
              "        <matplotlib.axes._subplots.AxesSubplot object at 0x7f27cffc8890>,\n",
              "        <matplotlib.axes._subplots.AxesSubplot object at 0x7f27cff7dcd0>],\n",
              "       [<matplotlib.axes._subplots.AxesSubplot object at 0x7f27cff7dd10>,\n",
              "        <matplotlib.axes._subplots.AxesSubplot object at 0x7f27cff42350>,\n",
              "        <matplotlib.axes._subplots.AxesSubplot object at 0x7f27cff2ec50>,\n",
              "        <matplotlib.axes._subplots.AxesSubplot object at 0x7f27cfef1190>],\n",
              "       [<matplotlib.axes._subplots.AxesSubplot object at 0x7f27cfea9690>,\n",
              "        <matplotlib.axes._subplots.AxesSubplot object at 0x7f27cfe5eb90>,\n",
              "        <matplotlib.axes._subplots.AxesSubplot object at 0x7f27cfe210d0>,\n",
              "        <matplotlib.axes._subplots.AxesSubplot object at 0x7f27cfdd95d0>],\n",
              "       [<matplotlib.axes._subplots.AxesSubplot object at 0x7f27cfd8ead0>,\n",
              "        <matplotlib.axes._subplots.AxesSubplot object at 0x7f27cfd39b50>,\n",
              "        <matplotlib.axes._subplots.AxesSubplot object at 0x7f27cfd08510>,\n",
              "        <matplotlib.axes._subplots.AxesSubplot object at 0x7f27cfcc0a10>]],\n",
              "      dtype=object)"
            ]
          },
          "metadata": {},
          "execution_count": 555
        },
        {
          "output_type": "display_data",
          "data": {
            "text/plain": [
              "<Figure size 1080x720 with 20 Axes>"
            ],
            "image/png": "[encoded data removed]"
          },
          "metadata": {
            "needs_background": "light"
          }
        }
      ]
    },
    {
      "cell_type": "code",
      "source": [
        "from sklearn.preprocessing import PowerTransformer\n",
        "\n",
        "tranform=PowerTransformer(method='yeo-johnson')\n",
        "col=['SGOT','Alk_Phos','Tryglicerides','Prothrombin','Copper','Cholesterol']\n",
        "data[col]=pd.DataFrame(tranform.fit_transform(data[col]),columns=col)\n"
      ],
      "metadata": {
        "colab": {
          "base_uri": "https://localhost:8080/"
        },
        "id": "hPLYkImUmA6e",
        "outputId": "226796e3-dc42-4394-bac6-d48e09436eff"
      },
      "execution_count": 556,
      "outputs": [
        {
          "output_type": "stream",
          "name": "stderr",
          "text": [
            "/usr/local/lib/python3.7/dist-packages/sklearn/preprocessing/_data.py:3253: RuntimeWarning: divide by zero encountered in log\n",
            "  loglike = -n_samples / 2 * np.log(x_trans.var())\n"
          ]
        }
      ]
    },
    {
      "cell_type": "code",
      "source": [
        "data.dropna(inplace=True)"
      ],
      "metadata": {
        "id": "KDBuruydoecR"
      },
      "execution_count": 557,
      "outputs": []
    },
    {
      "cell_type": "code",
      "source": [
        "from imblearn.over_sampling import SMOTE\n",
        "x=data.drop('Status',axis=1)\n",
        "y=data['Status']\n",
        "\n",
        "oversample = SMOTE()\n",
        "x,y=(oversample.fit_resample(x,y))\n"
      ],
      "metadata": {
        "id": "IMZbmOaDo65k"
      },
      "execution_count": 558,
      "outputs": []
    },
    {
      "cell_type": "code",
      "source": [
        "x.drop(['N_Days','Drug','SGOT'],axis=1,inplace=True)"
      ],
      "metadata": {
        "id": "OlTC76g0v-Ve"
      },
      "execution_count": 559,
      "outputs": []
    },
    {
      "cell_type": "code",
      "source": [
        "x.columns"
      ],
      "metadata": {
        "colab": {
          "base_uri": "https://localhost:8080/"
        },
        "id": "qh4zNCNJxlgi",
        "outputId": "910c169e-b384-422d-885d-e61c6b25fa14"
      },
      "execution_count": 560,
      "outputs": [
        {
          "output_type": "execute_result",
          "data": {
            "text/plain": [
              "Index(['Age', 'Sex', 'Ascites', 'Hepatomegaly', 'Spiders', 'Edema',\n",
              "       'Bilirubin', 'Cholesterol', 'Albumin', 'Copper', 'Alk_Phos',\n",
              "       'Tryglicerides', 'Platelets', 'Prothrombin', 'Stage'],\n",
              "      dtype='object')"
            ]
          },
          "metadata": {},
          "execution_count": 560
        }
      ]
    },
    {
      "cell_type": "code",
      "source": [
        "from sklearn.model_selection import train_test_split\n",
        "xtrain,xvalid,ytrain,yvalid=train_test_split(x,y,test_size=0.2)"
      ],
      "metadata": {
        "id": "mJK3JmsvvdAR"
      },
      "execution_count": 561,
      "outputs": []
    },
    {
      "cell_type": "code",
      "source": [
        "\n",
        "from sklearn.ensemble import RandomForestClassifier\n",
        "from sklearn.feature_selection import SelectKBest,mutual_info_classif\n",
        "\n",
        "model=RandomForestClassifier()\n",
        "model.fit(xtrain,ytrain)\n",
        "from sklearn.metrics import precision_score\n",
        "yhat=model.predict(xvalid)\n",
        "print((1,precision_score(yvalid,yhat,average='macro')))\n"
      ],
      "metadata": {
        "colab": {
          "base_uri": "https://localhost:8080/"
        },
        "id": "_o1KlkKUt8ro",
        "outputId": "4529c820-3a8d-4c3f-9242-918c8864f35a"
      },
      "execution_count": 562,
      "outputs": [
        {
          "output_type": "stream",
          "name": "stdout",
          "text": [
            "(1, 0.8323622910089076)\n"
          ]
        }
      ]
    },
    {
      "cell_type": "code",
      "source": [
        "from sklearn.metrics import precision_score\n",
        "yhat=model.predict(xvalid)\n",
        "\n",
        "precision_score(yvalid,yhat,average='macro')"
      ],
      "metadata": {
        "colab": {
          "base_uri": "https://localhost:8080/"
        },
        "id": "Le2ffcedvOa1",
        "outputId": "60e24bd8-7db4-47b7-851c-4c91afc748c5"
      },
      "execution_count": 563,
      "outputs": [
        {
          "output_type": "execute_result",
          "data": {
            "text/plain": [
              "0.8323622910089076"
            ]
          },
          "metadata": {},
          "execution_count": 563
        }
      ]
    },
    {
      "cell_type": "code",
      "source": [
        "import joblib\n",
        "joblib.dump(model,'/content/cirrhosis.h5')"
      ],
      "metadata": {
        "colab": {
          "base_uri": "https://localhost:8080/"
        },
        "id": "pIyGEnlEvtXC",
        "outputId": "a9745fec-37c0-469f-ec26-e2041cc0156d"
      },
      "execution_count": 566,
      "outputs": [
        {
          "output_type": "execute_result",
          "data": {
            "text/plain": [
              "['/content/cirrhosis.h5']"
            ]
          },
          "metadata": {},
          "execution_count": 566
        }
      ]
    },
    {
      "cell_type": "code",
      "source": [
        ""
      ],
      "metadata": {
        "id": "GXHgiN7b3Pi6"
      },
      "execution_count": null,
      "outputs": []
    }
  ]
}
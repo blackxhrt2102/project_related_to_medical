{
  "cells": [
    {
      "cell_type": "markdown",
      "metadata": {
        "id": "view-in-github",
        "colab_type": "text"
      },
      "source": [
        "<a href=\"https://colab.research.google.com/github/blackxhrt2102/project_related_to_medical/blob/main/Pneumonia/model.ipynb\" target=\"_parent\"><img src=\"https://colab.research.google.com/assets/colab-badge.svg\" alt=\"Open In Colab\"/></a>"
      ]
    },
    {
      "cell_type": "code",
      "execution_count": 1,
      "metadata": {
        "colab": {
          "base_uri": "https://localhost:8080/"
        },
        "id": "qRChoXIzRrHO",
        "outputId": "6d46971b-3924-41cc-83df-3b73f0c60454"
      },
      "outputs": [
        {
          "output_type": "stream",
          "name": "stdout",
          "text": [
            "Downloading labeled-chest-xray-images.zip to /content\n",
            " 99% 1.16G/1.17G [00:35<00:00, 48.2MB/s]\n",
            "100% 1.17G/1.17G [00:35<00:00, 35.7MB/s]\n"
          ]
        }
      ],
      "source": [
        "!pip install -q kaggle\n",
        "\n",
        "!mkdir -p ~/.kaggle\n",
        "!cp kaggle.json ~/.kaggle/\n",
        "\n",
        "!chmod 600 /root/.kaggle/kaggle.json\n",
        "\n",
        "!kaggle datasets download -d tolgadincer/labeled-chest-xray-images"
      ]
    },
    {
      "cell_type": "code",
      "execution_count": 2,
      "metadata": {
        "id": "UrSrAaE7lvkB"
      },
      "outputs": [],
      "source": [
        "import zipfile\n",
        "\n",
        "data=zipfile.ZipFile('/content/labeled-chest-xray-images.zip')\n",
        "data.extractall('/content')"
      ]
    },
    {
      "cell_type": "code",
      "execution_count": 3,
      "metadata": {
        "id": "mVIOrH2bSmsP"
      },
      "outputs": [],
      "source": [
        "import tensorflow as tf\n",
        "import keras\n"
      ]
    },
    {
      "cell_type": "code",
      "execution_count": 4,
      "metadata": {
        "colab": {
          "base_uri": "https://localhost:8080/"
        },
        "id": "KXvwmAnaS52J",
        "outputId": "a9ba785e-d9b3-4f7e-ca0f-397a12d2079a"
      },
      "outputs": [
        {
          "output_type": "stream",
          "name": "stderr",
          "text": [
            "/usr/local/lib/python3.7/dist-packages/keras/optimizer_v2/rmsprop.py:130: UserWarning: The `lr` argument is deprecated, use `learning_rate` instead.\n",
            "  super(RMSprop, self).__init__(name, **kwargs)\n"
          ]
        }
      ],
      "source": [
        "model=keras.models.Sequential([\n",
        "                               keras.layers.Conv2D(16,(3,3),activation='relu',input_shape=(150,150,3)),\n",
        "                               keras.layers.MaxPooling2D(2,2),\n",
        "                               keras.layers.Conv2D(32,(3,3),activation='relu'),\n",
        "                               keras.layers.MaxPooling2D(2,2),\n",
        "                               keras.layers.Conv2D(64,(3,3),activation='relu'),\n",
        "                               keras.layers.MaxPooling2D(2,2),\n",
        "                               keras.layers.Conv2D(128,(3,3),activation='relu'),\n",
        "                               keras.layers.MaxPooling2D(2,2),\n",
        "                               keras.layers.Conv2D(256,(3,3),activation='relu'),\n",
        "                               keras.layers.MaxPooling2D(2,2),\n",
        "                               keras.layers.Flatten(),\n",
        "                               keras.layers.Dropout(0.15),\n",
        "                               keras.layers.Dense(1024,activation='relu'),\n",
        "                               keras.layers.Dense(1,activation='softmax')                           \n",
        "])\n",
        "from tensorflow.keras.optimizers import RMSprop\n",
        "\n",
        "model.compile(loss='binary_crossentropy',optimizer=RMSprop(lr=0.001))"
      ]
    },
    {
      "cell_type": "code",
      "execution_count": 5,
      "metadata": {
        "id": "g4LOAWMnTuE2"
      },
      "outputs": [],
      "source": [
        "from keras.preprocessing.image import ImageDataGenerator\n",
        "\n",
        "train_d=ImageDataGenerator(\n",
        "    rescale=1.0/255,\n",
        "    rotation_range=40,\n",
        "    width_shift_range=0.2,\n",
        "    height_shift_range=0.2,\n",
        "    shear_range=0.2,\n",
        "    zoom_range=0.2,\n",
        "    horizontal_flip=True,\n",
        "    fill_mode='nearest'\n",
        ")\n",
        "\n",
        "valid_d=ImageDataGenerator(\n",
        "    rescale=1.0/255\n",
        ")"
      ]
    },
    {
      "cell_type": "code",
      "execution_count": 13,
      "metadata": {
        "id": "9PsOuJbfXZeC"
      },
      "outputs": [],
      "source": [
        "from keras.callbacks import ModelCheckpoint,EarlyStopping,ReduceLROnPlateau\n",
        "\n",
        "model_check=ModelCheckpoint(filepath='/content/chest.h5',save_best_only=True,monitor='val_loss')\n",
        "early_stop=EarlyStopping(monitor='val_loss',patience=6,restore_best_weights=True)\n",
        "lr=ReduceLROnPlateau(monitor='val_loss',patience=3,factor=0.1)"
      ]
    },
    {
      "cell_type": "code",
      "execution_count": 6,
      "metadata": {
        "colab": {
          "base_uri": "https://localhost:8080/"
        },
        "id": "ABnhiISmU4XH",
        "outputId": "09316743-c6ee-4f4a-8ff6-cea92372f0d1"
      },
      "outputs": [
        {
          "output_type": "stream",
          "name": "stdout",
          "text": [
            "Found 5232 images belonging to 2 classes.\n",
            "Found 624 images belonging to 2 classes.\n"
          ]
        }
      ],
      "source": [
        "train_path=train_d.flow_from_directory('/content/chest_xray/train',target_size=(150,150),batch_size=60,class_mode='binary')\n",
        "valid_path=train_d.flow_from_directory('/content/chest_xray/test',target_size=(150,150),batch_size=15,class_mode='binary')"
      ]
    },
    {
      "cell_type": "code",
      "execution_count": 30,
      "metadata": {
        "colab": {
          "base_uri": "https://localhost:8080/"
        },
        "id": "u4D8RqZDV5Hz",
        "outputId": "78b76313-9fbe-4ad6-e667-49be898df217"
      },
      "outputs": [
        {
          "output_type": "stream",
          "name": "stdout",
          "text": [
            "Epoch 1/40\n",
            "40/40 [==============================] - 47s 1s/step - loss: 0.1313 - val_loss: 0.2844 - lr: 1.0000e-07\n",
            "Epoch 2/40\n",
            "40/40 [==============================] - 47s 1s/step - loss: 0.1306 - val_loss: 0.3044 - lr: 1.0000e-07\n",
            "Epoch 3/40\n",
            "40/40 [==============================] - 47s 1s/step - loss: 0.1246 - val_loss: 0.2950 - lr: 1.0000e-07\n",
            "Epoch 4/40\n",
            "40/40 [==============================] - 47s 1s/step - loss: 0.1162 - val_loss: 0.2616 - lr: 1.0000e-07\n",
            "Epoch 5/40\n",
            "40/40 [==============================] - 48s 1s/step - loss: 0.1196 - val_loss: 0.3071 - lr: 1.0000e-07\n",
            "Epoch 6/40\n",
            "40/40 [==============================] - 48s 1s/step - loss: 0.1256 - val_loss: 0.2791 - lr: 1.0000e-07\n",
            "Epoch 7/40\n",
            "40/40 [==============================] - 47s 1s/step - loss: 0.1131 - val_loss: 0.2925 - lr: 1.0000e-07\n",
            "Epoch 8/40\n",
            "40/40 [==============================] - 47s 1s/step - loss: 0.1156 - val_loss: 0.3162 - lr: 1.0000e-08\n",
            "Epoch 9/40\n",
            "40/40 [==============================] - 47s 1s/step - loss: 0.1248 - val_loss: 0.3041 - lr: 1.0000e-08\n",
            "Epoch 10/40\n",
            "40/40 [==============================] - 47s 1s/step - loss: 0.1167 - val_loss: 0.2828 - lr: 1.0000e-08\n"
          ]
        }
      ],
      "source": [
        "history=model.fit(train_path,steps_per_epoch=40,epochs=40,verbose='auto',validation_data=valid_path,callbacks=[model_check,early_stop,lr])"
      ]
    },
    {
      "cell_type": "code",
      "execution_count": 31,
      "metadata": {
        "id": "HnGVewa_WjuB",
        "colab": {
          "base_uri": "https://localhost:8080/"
        },
        "outputId": "8126a897-d211-4b89-e153-d222a7e4aa4e"
      },
      "outputs": [
        {
          "output_type": "stream",
          "name": "stdout",
          "text": [
            "INFO:tensorflow:Assets written to: ram://a43f52a0-ea6e-4cbb-b21d-c6533dc29d32/assets\n"
          ]
        },
        {
          "output_type": "execute_result",
          "data": {
            "text/plain": [
              "['/content/model.h5']"
            ]
          },
          "metadata": {},
          "execution_count": 31
        }
      ],
      "source": [
        "import joblib\n",
        "joblib.dump(history,'/content/model.h5')"
      ]
    },
    {
      "cell_type": "code",
      "source": [
        "loss=history.history['loss']\n",
        "val_loss=history.history['val_loss']\n",
        "epochs=range(len(loss))\n",
        "\n",
        "import matplotlib.pyplot as plt\n",
        "plt.plot(epochs,loss,color='red')\n",
        "plt.plot(epochs,val_loss,color='blue')"
      ],
      "metadata": {
        "colab": {
          "base_uri": "https://localhost:8080/",
          "height": 286
        },
        "id": "B43h_gAgyFMt",
        "outputId": "c6b02f29-a83c-4683-e4af-a2a0fc76843e"
      },
      "execution_count": 29,
      "outputs": [
        {
          "output_type": "execute_result",
          "data": {
            "text/plain": [
              "[<matplotlib.lines.Line2D at 0x7fcbd67a7690>]"
            ]
          },
          "metadata": {},
          "execution_count": 29
        },
        {
          "output_type": "display_data",
          "data": {
            "text/plain": [
              "<Figure size 432x288 with 1 Axes>"
            ],
            "image/png": "[encoded data removed]"
          },
          "metadata": {
            "needs_background": "light"
          }
        }
      ]
    },
    {
      "cell_type": "code",
      "source": [
        ""
      ],
      "metadata": {
        "id": "Za2TbDMhyoyC"
      },
      "execution_count": null,
      "outputs": []
    }
  ],
  "metadata": {
    "accelerator": "GPU",
    "colab": {
      "name": "Untitled79.ipynb",
      "provenance": [],
      "authorship_tag": "ABX9TyNjXOY6oVSNzOlkrS/APXk3",
      "include_colab_link": true
    },
    "kernelspec": {
      "display_name": "Python 3",
      "name": "python3"
    },
    "language_info": {
      "name": "python"
    }
  },
  "nbformat": 4,
  "nbformat_minor": 0
}